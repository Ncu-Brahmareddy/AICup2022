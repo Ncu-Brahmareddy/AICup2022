{
 "cells": [
  {
   "cell_type": "code",
   "execution_count": null,
   "id": "788198a7",
   "metadata": {},
   "outputs": [],
   "source": [
    "##Load Library\n",
    "import numpy as np, pandas as pd, gc\n",
    "import cv2, matplotlib.pyplot as plt\n",
    "from PIL import Image\n",
    "import os\n",
    "import glob"
   ]
  },
  {
   "cell_type": "code",
   "execution_count": null,
   "id": "79827d54",
   "metadata": {},
   "outputs": [],
   "source": [
    "print(os.listdir(\"Data/\"))\n",
    "\n",
    "train_labels = []\n",
    "img_name_dic = []"
   ]
  },
  {
   "cell_type": "code",
   "execution_count": null,
   "id": "6892232d",
   "metadata": {},
   "outputs": [],
   "source": [
    "for directory_path in glob.glob(\"Data/Training_Data/*\"):\n",
    "    for img_pa in glob.glob(os.path.join(directory_path, \"*.jpg\")):\n",
    "        img_dic = img_pa.split('\\\\')[-1]\n",
    "        img_lbl = img_pa.split('\\\\')[1]\n",
    "        img_name_dic.append(img_dic)\n",
    "        train_labels.append(img_lbl)"
   ]
  },
  {
   "cell_type": "code",
   "execution_count": null,
   "id": "6d58afa6",
   "metadata": {},
   "outputs": [],
   "source": [
    "train_labels = np.array(train_labels)\n",
    "train_labels.shape"
   ]
  },
  {
   "cell_type": "code",
   "execution_count": null,
   "id": "a2f1773e",
   "metadata": {},
   "outputs": [],
   "source": [
    "SampleNum = len(train_labels)\n",
    "SampleNum"
   ]
  },
  {
   "cell_type": "code",
   "execution_count": null,
   "id": "d69920f9",
   "metadata": {},
   "outputs": [],
   "source": [
    "sl = np.zeros(SampleNum).astype(str)\n",
    "sl[:] = '/'"
   ]
  },
  {
   "cell_type": "code",
   "execution_count": null,
   "id": "0aafe2a4",
   "metadata": {},
   "outputs": [],
   "source": [
    "start_path = np.char.add(train_labels, sl)\n",
    "start_path"
   ]
  },
  {
   "cell_type": "code",
   "execution_count": null,
   "id": "70ed3084",
   "metadata": {},
   "outputs": [],
   "source": [
    "img_path = np.char.add(start_path, img_name_dic)\n",
    "img_path"
   ]
  },
  {
   "cell_type": "code",
   "execution_count": null,
   "id": "61415e4d",
   "metadata": {},
   "outputs": [],
   "source": [
    "train_labels = pd.DataFrame(train_labels, columns=['Labels'])\n",
    "train_labels"
   ]
  },
  {
   "cell_type": "code",
   "execution_count": null,
   "id": "1fa21b73",
   "metadata": {},
   "outputs": [],
   "source": [
    "img_path = pd.DataFrame(img_path, columns=['img_path'])\n",
    "img_path"
   ]
  },
  {
   "cell_type": "code",
   "execution_count": null,
   "id": "4621a322",
   "metadata": {},
   "outputs": [],
   "source": [
    "img_name_dic = pd.DataFrame(img_name_dic, columns=['Img'])\n",
    "img_name_dic.head()"
   ]
  },
  {
   "cell_type": "code",
   "execution_count": null,
   "id": "f2990a93",
   "metadata": {},
   "outputs": [],
   "source": [
    "loc_data = pd.read_csv('Location.csv')\n",
    "loc_data = loc_data.merge(img_name_dic, on=['Img'])\n",
    "loc_data.head()"
   ]
  },
  {
   "cell_type": "code",
   "execution_count": null,
   "id": "f459812d",
   "metadata": {},
   "outputs": [],
   "source": [
    "loc_data = pd.concat([loc_data, img_path], axis=1, join='inner')\n",
    "loc_data.head()"
   ]
  },
  {
   "cell_type": "code",
   "execution_count": null,
   "id": "92252741",
   "metadata": {},
   "outputs": [],
   "source": [
    "loc_data = pd.concat([loc_data, train_labels], axis=1, join='inner')\n",
    "loc_data.head()"
   ]
  },
  {
   "cell_type": "code",
   "execution_count": null,
   "id": "e3e9a49a",
   "metadata": {},
   "outputs": [],
   "source": [
    "loc_data.to_csv('train_path.csv',index=False)"
   ]
  },
  {
   "cell_type": "code",
   "execution_count": null,
   "id": "b578abb9",
   "metadata": {},
   "outputs": [],
   "source": []
  },
  {
   "cell_type": "code",
   "execution_count": null,
   "id": "2c4518f0",
   "metadata": {},
   "outputs": [],
   "source": []
  }
 ],
 "metadata": {
  "kernelspec": {
   "display_name": "Python 3 (ipykernel)",
   "language": "python",
   "name": "python3"
  },
  "language_info": {
   "codemirror_mode": {
    "name": "ipython",
    "version": 3
   },
   "file_extension": ".py",
   "mimetype": "text/x-python",
   "name": "python",
   "nbconvert_exporter": "python",
   "pygments_lexer": "ipython3",
   "version": "3.8.13"
  }
 },
 "nbformat": 4,
 "nbformat_minor": 5
}
